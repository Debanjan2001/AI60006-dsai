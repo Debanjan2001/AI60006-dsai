{
 "cells": [
  {
   "cell_type": "code",
   "execution_count": 36,
   "metadata": {
    "id": "4rYdyu-0TTcC"
   },
   "outputs": [],
   "source": [
    "# Load the data and libraries\n",
    "import pandas as pd\n",
    "import numpy as np\n",
    "\n",
    "adult = pd.read_csv('adult_with_pii.csv')"
   ]
  },
  {
   "cell_type": "markdown",
   "metadata": {
    "id": "dX0ZS71HTcbH"
   },
   "source": [
    "## Question 1\n",
    "\"Construct a de-identified version of the adult dataset\"\n",
    "What columns did you remove from the dataset to de-identify it? Why did you choose these columns? Why did you not choose the remaining columns?\n",
    "\n",
    "YOUR ANSWER HERE"
   ]
  },
  {
   "cell_type": "code",
   "execution_count": 2,
   "metadata": {},
   "outputs": [
    {
     "data": {
      "text/html": [
       "<div>\n",
       "<style scoped>\n",
       "    .dataframe tbody tr th:only-of-type {\n",
       "        vertical-align: middle;\n",
       "    }\n",
       "\n",
       "    .dataframe tbody tr th {\n",
       "        vertical-align: top;\n",
       "    }\n",
       "\n",
       "    .dataframe thead th {\n",
       "        text-align: right;\n",
       "    }\n",
       "</style>\n",
       "<table border=\"1\" class=\"dataframe\">\n",
       "  <thead>\n",
       "    <tr style=\"text-align: right;\">\n",
       "      <th></th>\n",
       "      <th>Name</th>\n",
       "      <th>DOB</th>\n",
       "      <th>SSN</th>\n",
       "      <th>Zip</th>\n",
       "      <th>Workclass</th>\n",
       "      <th>Education</th>\n",
       "      <th>Education-Num</th>\n",
       "      <th>Marital Status</th>\n",
       "      <th>Occupation</th>\n",
       "      <th>Relationship</th>\n",
       "      <th>Race</th>\n",
       "      <th>Sex</th>\n",
       "      <th>Hours per week</th>\n",
       "      <th>Country</th>\n",
       "      <th>Target</th>\n",
       "      <th>Age</th>\n",
       "      <th>Capital Gain</th>\n",
       "      <th>Capital Loss</th>\n",
       "    </tr>\n",
       "  </thead>\n",
       "  <tbody>\n",
       "    <tr>\n",
       "      <th>0</th>\n",
       "      <td>Karrie Trusslove</td>\n",
       "      <td>9/7/1967</td>\n",
       "      <td>732-14-6110</td>\n",
       "      <td>64152</td>\n",
       "      <td>State-gov</td>\n",
       "      <td>Bachelors</td>\n",
       "      <td>13</td>\n",
       "      <td>Never-married</td>\n",
       "      <td>Adm-clerical</td>\n",
       "      <td>Not-in-family</td>\n",
       "      <td>White</td>\n",
       "      <td>Male</td>\n",
       "      <td>40</td>\n",
       "      <td>United-States</td>\n",
       "      <td>&lt;=50K</td>\n",
       "      <td>56</td>\n",
       "      <td>2174</td>\n",
       "      <td>0</td>\n",
       "    </tr>\n",
       "    <tr>\n",
       "      <th>1</th>\n",
       "      <td>Brandise Tripony</td>\n",
       "      <td>6/7/1988</td>\n",
       "      <td>150-19-2766</td>\n",
       "      <td>61523</td>\n",
       "      <td>Self-emp-not-inc</td>\n",
       "      <td>Bachelors</td>\n",
       "      <td>13</td>\n",
       "      <td>Married-civ-spouse</td>\n",
       "      <td>Exec-managerial</td>\n",
       "      <td>Husband</td>\n",
       "      <td>White</td>\n",
       "      <td>Male</td>\n",
       "      <td>13</td>\n",
       "      <td>United-States</td>\n",
       "      <td>&lt;=50K</td>\n",
       "      <td>35</td>\n",
       "      <td>0</td>\n",
       "      <td>0</td>\n",
       "    </tr>\n",
       "    <tr>\n",
       "      <th>2</th>\n",
       "      <td>Brenn McNeely</td>\n",
       "      <td>8/6/1991</td>\n",
       "      <td>725-59-9860</td>\n",
       "      <td>95668</td>\n",
       "      <td>Private</td>\n",
       "      <td>HS-grad</td>\n",
       "      <td>9</td>\n",
       "      <td>Divorced</td>\n",
       "      <td>Handlers-cleaners</td>\n",
       "      <td>Not-in-family</td>\n",
       "      <td>White</td>\n",
       "      <td>Male</td>\n",
       "      <td>40</td>\n",
       "      <td>United-States</td>\n",
       "      <td>&lt;=50K</td>\n",
       "      <td>32</td>\n",
       "      <td>0</td>\n",
       "      <td>0</td>\n",
       "    </tr>\n",
       "    <tr>\n",
       "      <th>3</th>\n",
       "      <td>Dorry Poter</td>\n",
       "      <td>4/6/2009</td>\n",
       "      <td>659-57-4974</td>\n",
       "      <td>25503</td>\n",
       "      <td>Private</td>\n",
       "      <td>11th</td>\n",
       "      <td>7</td>\n",
       "      <td>Married-civ-spouse</td>\n",
       "      <td>Handlers-cleaners</td>\n",
       "      <td>Husband</td>\n",
       "      <td>Black</td>\n",
       "      <td>Male</td>\n",
       "      <td>40</td>\n",
       "      <td>United-States</td>\n",
       "      <td>&lt;=50K</td>\n",
       "      <td>14</td>\n",
       "      <td>0</td>\n",
       "      <td>0</td>\n",
       "    </tr>\n",
       "    <tr>\n",
       "      <th>4</th>\n",
       "      <td>Dick Honnan</td>\n",
       "      <td>9/16/1951</td>\n",
       "      <td>220-93-3811</td>\n",
       "      <td>75387</td>\n",
       "      <td>Private</td>\n",
       "      <td>Bachelors</td>\n",
       "      <td>13</td>\n",
       "      <td>Married-civ-spouse</td>\n",
       "      <td>Prof-specialty</td>\n",
       "      <td>Wife</td>\n",
       "      <td>Black</td>\n",
       "      <td>Female</td>\n",
       "      <td>40</td>\n",
       "      <td>Cuba</td>\n",
       "      <td>&lt;=50K</td>\n",
       "      <td>72</td>\n",
       "      <td>0</td>\n",
       "      <td>0</td>\n",
       "    </tr>\n",
       "  </tbody>\n",
       "</table>\n",
       "</div>"
      ],
      "text/plain": [
       "               Name        DOB          SSN    Zip         Workclass  \\\n",
       "0  Karrie Trusslove   9/7/1967  732-14-6110  64152         State-gov   \n",
       "1  Brandise Tripony   6/7/1988  150-19-2766  61523  Self-emp-not-inc   \n",
       "2     Brenn McNeely   8/6/1991  725-59-9860  95668           Private   \n",
       "3       Dorry Poter   4/6/2009  659-57-4974  25503           Private   \n",
       "4       Dick Honnan  9/16/1951  220-93-3811  75387           Private   \n",
       "\n",
       "   Education  Education-Num      Marital Status         Occupation  \\\n",
       "0  Bachelors             13       Never-married       Adm-clerical   \n",
       "1  Bachelors             13  Married-civ-spouse    Exec-managerial   \n",
       "2    HS-grad              9            Divorced  Handlers-cleaners   \n",
       "3       11th              7  Married-civ-spouse  Handlers-cleaners   \n",
       "4  Bachelors             13  Married-civ-spouse     Prof-specialty   \n",
       "\n",
       "    Relationship   Race     Sex  Hours per week        Country Target  Age  \\\n",
       "0  Not-in-family  White    Male              40  United-States  <=50K   56   \n",
       "1        Husband  White    Male              13  United-States  <=50K   35   \n",
       "2  Not-in-family  White    Male              40  United-States  <=50K   32   \n",
       "3        Husband  Black    Male              40  United-States  <=50K   14   \n",
       "4           Wife  Black  Female              40           Cuba  <=50K   72   \n",
       "\n",
       "   Capital Gain  Capital Loss  \n",
       "0          2174             0  \n",
       "1             0             0  \n",
       "2             0             0  \n",
       "3             0             0  \n",
       "4             0             0  "
      ]
     },
     "execution_count": 2,
     "metadata": {},
     "output_type": "execute_result"
    }
   ],
   "source": [
    "adult.head()"
   ]
  },
  {
   "cell_type": "code",
   "execution_count": 3,
   "metadata": {
    "id": "gaNIdlpsTbli"
   },
   "outputs": [],
   "source": [
    "def deidentify_adult():\n",
    "    # YOUR CODE HERE\n",
    "    # raise NotImplementedError()\n",
    "    adult_deid = adult.copy().drop(columns=['Name', 'SSN'])\n",
    "    return adult_deid\n",
    "\n",
    "adult_deid = deidentify_adult()"
   ]
  },
  {
   "cell_type": "code",
   "execution_count": 4,
   "metadata": {},
   "outputs": [
    {
     "data": {
      "text/html": [
       "<div>\n",
       "<style scoped>\n",
       "    .dataframe tbody tr th:only-of-type {\n",
       "        vertical-align: middle;\n",
       "    }\n",
       "\n",
       "    .dataframe tbody tr th {\n",
       "        vertical-align: top;\n",
       "    }\n",
       "\n",
       "    .dataframe thead th {\n",
       "        text-align: right;\n",
       "    }\n",
       "</style>\n",
       "<table border=\"1\" class=\"dataframe\">\n",
       "  <thead>\n",
       "    <tr style=\"text-align: right;\">\n",
       "      <th></th>\n",
       "      <th>DOB</th>\n",
       "      <th>Zip</th>\n",
       "      <th>Workclass</th>\n",
       "      <th>Education</th>\n",
       "      <th>Education-Num</th>\n",
       "      <th>Marital Status</th>\n",
       "      <th>Occupation</th>\n",
       "      <th>Relationship</th>\n",
       "      <th>Race</th>\n",
       "      <th>Sex</th>\n",
       "      <th>Hours per week</th>\n",
       "      <th>Country</th>\n",
       "      <th>Target</th>\n",
       "      <th>Age</th>\n",
       "      <th>Capital Gain</th>\n",
       "      <th>Capital Loss</th>\n",
       "    </tr>\n",
       "  </thead>\n",
       "  <tbody>\n",
       "    <tr>\n",
       "      <th>0</th>\n",
       "      <td>9/7/1967</td>\n",
       "      <td>64152</td>\n",
       "      <td>State-gov</td>\n",
       "      <td>Bachelors</td>\n",
       "      <td>13</td>\n",
       "      <td>Never-married</td>\n",
       "      <td>Adm-clerical</td>\n",
       "      <td>Not-in-family</td>\n",
       "      <td>White</td>\n",
       "      <td>Male</td>\n",
       "      <td>40</td>\n",
       "      <td>United-States</td>\n",
       "      <td>&lt;=50K</td>\n",
       "      <td>56</td>\n",
       "      <td>2174</td>\n",
       "      <td>0</td>\n",
       "    </tr>\n",
       "    <tr>\n",
       "      <th>1</th>\n",
       "      <td>6/7/1988</td>\n",
       "      <td>61523</td>\n",
       "      <td>Self-emp-not-inc</td>\n",
       "      <td>Bachelors</td>\n",
       "      <td>13</td>\n",
       "      <td>Married-civ-spouse</td>\n",
       "      <td>Exec-managerial</td>\n",
       "      <td>Husband</td>\n",
       "      <td>White</td>\n",
       "      <td>Male</td>\n",
       "      <td>13</td>\n",
       "      <td>United-States</td>\n",
       "      <td>&lt;=50K</td>\n",
       "      <td>35</td>\n",
       "      <td>0</td>\n",
       "      <td>0</td>\n",
       "    </tr>\n",
       "  </tbody>\n",
       "</table>\n",
       "</div>"
      ],
      "text/plain": [
       "        DOB    Zip         Workclass  Education  Education-Num  \\\n",
       "0  9/7/1967  64152         State-gov  Bachelors             13   \n",
       "1  6/7/1988  61523  Self-emp-not-inc  Bachelors             13   \n",
       "\n",
       "       Marital Status       Occupation   Relationship   Race   Sex  \\\n",
       "0       Never-married     Adm-clerical  Not-in-family  White  Male   \n",
       "1  Married-civ-spouse  Exec-managerial        Husband  White  Male   \n",
       "\n",
       "   Hours per week        Country Target  Age  Capital Gain  Capital Loss  \n",
       "0              40  United-States  <=50K   56          2174             0  \n",
       "1              13  United-States  <=50K   35             0             0  "
      ]
     },
     "execution_count": 4,
     "metadata": {},
     "output_type": "execute_result"
    }
   ],
   "source": [
    "adult_deid.head(2)"
   ]
  },
  {
   "cell_type": "markdown",
   "metadata": {
    "id": "YncbVy3XUcI7"
   },
   "source": [
    "## Question 2\n",
    "Write a pandas expression to return just the row containing information about Brenn McNeely."
   ]
  },
  {
   "cell_type": "code",
   "execution_count": 5,
   "metadata": {
    "id": "nZksns94Ubb5"
   },
   "outputs": [],
   "source": [
    "def get_brenns_row():\n",
    "    # YOUR CODE HERE\n",
    "    # raise NotImplementedError()\n",
    "    return adult[adult[\"Name\"] == \"Brenn McNeely\"]\n",
    "\n",
    "brenns_row = get_brenns_row()[['Name', 'DOB', 'Zip', 'Age']]"
   ]
  },
  {
   "cell_type": "code",
   "execution_count": 6,
   "metadata": {
    "id": "BPJyTmwVUnxq"
   },
   "outputs": [
    {
     "ename": "AssertionError",
     "evalue": "",
     "output_type": "error",
     "traceback": [
      "\u001b[0;31m---------------------------------------------------------------------------\u001b[0m",
      "\u001b[0;31mAssertionError\u001b[0m                            Traceback (most recent call last)",
      "Cell \u001b[0;32mIn[6], line 3\u001b[0m\n\u001b[1;32m      1\u001b[0m \u001b[38;5;28;01massert\u001b[39;00m \u001b[38;5;28mlen\u001b[39m(brenns_row) \u001b[38;5;241m==\u001b[39m \u001b[38;5;241m1\u001b[39m\n\u001b[1;32m      2\u001b[0m \u001b[38;5;28;01massert\u001b[39;00m brenns_row[\u001b[38;5;124m'\u001b[39m\u001b[38;5;124mZip\u001b[39m\u001b[38;5;124m'\u001b[39m]\u001b[38;5;241m.\u001b[39miloc[\u001b[38;5;241m0\u001b[39m] \u001b[38;5;241m==\u001b[39m \u001b[38;5;241m95668\u001b[39m\n\u001b[0;32m----> 3\u001b[0m \u001b[38;5;28;01massert\u001b[39;00m brenns_row[\u001b[38;5;124m'\u001b[39m\u001b[38;5;124mAge\u001b[39m\u001b[38;5;124m'\u001b[39m]\u001b[38;5;241m.\u001b[39miloc[\u001b[38;5;241m0\u001b[39m] \u001b[38;5;241m==\u001b[39m \u001b[38;5;241m38\u001b[39m\n",
      "\u001b[0;31mAssertionError\u001b[0m: "
     ]
    }
   ],
   "source": [
    "assert len(brenns_row) == 1\n",
    "assert brenns_row['Zip'].iloc[0] == 95668\n",
    "assert brenns_row['Age'].iloc[0] == 38"
   ]
  },
  {
   "cell_type": "code",
   "execution_count": 7,
   "metadata": {
    "id": "dMCoH4FaUrbw"
   },
   "outputs": [
    {
     "data": {
      "text/html": [
       "<div>\n",
       "<style scoped>\n",
       "    .dataframe tbody tr th:only-of-type {\n",
       "        vertical-align: middle;\n",
       "    }\n",
       "\n",
       "    .dataframe tbody tr th {\n",
       "        vertical-align: top;\n",
       "    }\n",
       "\n",
       "    .dataframe thead th {\n",
       "        text-align: right;\n",
       "    }\n",
       "</style>\n",
       "<table border=\"1\" class=\"dataframe\">\n",
       "  <thead>\n",
       "    <tr style=\"text-align: right;\">\n",
       "      <th></th>\n",
       "      <th>Name</th>\n",
       "      <th>DOB</th>\n",
       "      <th>Zip</th>\n",
       "      <th>Age</th>\n",
       "    </tr>\n",
       "  </thead>\n",
       "  <tbody>\n",
       "    <tr>\n",
       "      <th>2</th>\n",
       "      <td>Brenn McNeely</td>\n",
       "      <td>8/6/1991</td>\n",
       "      <td>95668</td>\n",
       "      <td>32</td>\n",
       "    </tr>\n",
       "  </tbody>\n",
       "</table>\n",
       "</div>"
      ],
      "text/plain": [
       "            Name       DOB    Zip  Age\n",
       "2  Brenn McNeely  8/6/1991  95668   32"
      ]
     },
     "execution_count": 7,
     "metadata": {},
     "output_type": "execute_result"
    }
   ],
   "source": [
    "brenns_row"
   ]
  },
  {
   "cell_type": "markdown",
   "metadata": {
    "id": "2NG8-t_6VLzW"
   },
   "source": [
    "# Question 3\n",
    "Conduct a linking attack to recover Brenn's data from the adult_deid dataset."
   ]
  },
  {
   "cell_type": "code",
   "execution_count": 8,
   "metadata": {
    "id": "6osKUtowVVpn"
   },
   "outputs": [],
   "source": [
    "def recover_brenns_row():\n",
    "    # YOUR CODE HERE\n",
    "    # raise NotImplementedError()\n",
    "    row =  adult_deid[(adult_deid[\"Age\"]==32) & (adult_deid[\"Zip\"]==95668) & (adult_deid[\"DOB\"]==\"8/6/1991\")]\n",
    "    return row\n",
    "\n",
    "brenns_recovered_row = recover_brenns_row()\n"
   ]
  },
  {
   "cell_type": "code",
   "execution_count": 9,
   "metadata": {
    "id": "zo5jsYXmVcHl"
   },
   "outputs": [],
   "source": [
    "assert len(brenns_recovered_row) == 1\n",
    "assert brenns_recovered_row['Education'].iloc[0] == 'HS-grad'"
   ]
  },
  {
   "cell_type": "markdown",
   "metadata": {
    "id": "nNl5IZhUWdFR"
   },
   "source": [
    "# Question 4\n",
    "What is the maximum age recorded in the dataset?\n",
    "\n",
    "What is the difference in the sum of ages between the entire dataset and the dataset excluding Brenn McNeely's age?\n",
    "\n",
    "What is the mean age of individuals in the dataset?"
   ]
  },
  {
   "cell_type": "code",
   "execution_count": 10,
   "metadata": {},
   "outputs": [
    {
     "data": {
      "text/html": [
       "<div>\n",
       "<style scoped>\n",
       "    .dataframe tbody tr th:only-of-type {\n",
       "        vertical-align: middle;\n",
       "    }\n",
       "\n",
       "    .dataframe tbody tr th {\n",
       "        vertical-align: top;\n",
       "    }\n",
       "\n",
       "    .dataframe thead th {\n",
       "        text-align: right;\n",
       "    }\n",
       "</style>\n",
       "<table border=\"1\" class=\"dataframe\">\n",
       "  <thead>\n",
       "    <tr style=\"text-align: right;\">\n",
       "      <th></th>\n",
       "      <th>Zip</th>\n",
       "      <th>Education-Num</th>\n",
       "      <th>Hours per week</th>\n",
       "      <th>Age</th>\n",
       "      <th>Capital Gain</th>\n",
       "      <th>Capital Loss</th>\n",
       "    </tr>\n",
       "  </thead>\n",
       "  <tbody>\n",
       "    <tr>\n",
       "      <th>count</th>\n",
       "      <td>32563.000000</td>\n",
       "      <td>32563.000000</td>\n",
       "      <td>32563.000000</td>\n",
       "      <td>32563.000000</td>\n",
       "      <td>32563.000000</td>\n",
       "      <td>32563.000000</td>\n",
       "    </tr>\n",
       "    <tr>\n",
       "      <th>mean</th>\n",
       "      <td>50267.834198</td>\n",
       "      <td>10.080429</td>\n",
       "      <td>40.436201</td>\n",
       "      <td>41.772503</td>\n",
       "      <td>1077.582655</td>\n",
       "      <td>87.298468</td>\n",
       "    </tr>\n",
       "    <tr>\n",
       "      <th>std</th>\n",
       "      <td>28938.770840</td>\n",
       "      <td>2.573138</td>\n",
       "      <td>12.349083</td>\n",
       "      <td>17.907765</td>\n",
       "      <td>7385.070103</td>\n",
       "      <td>402.948424</td>\n",
       "    </tr>\n",
       "    <tr>\n",
       "      <th>min</th>\n",
       "      <td>4.000000</td>\n",
       "      <td>1.000000</td>\n",
       "      <td>0.000000</td>\n",
       "      <td>1.000000</td>\n",
       "      <td>0.000000</td>\n",
       "      <td>0.000000</td>\n",
       "    </tr>\n",
       "    <tr>\n",
       "      <th>25%</th>\n",
       "      <td>25151.500000</td>\n",
       "      <td>9.000000</td>\n",
       "      <td>40.000000</td>\n",
       "      <td>26.000000</td>\n",
       "      <td>0.000000</td>\n",
       "      <td>0.000000</td>\n",
       "    </tr>\n",
       "    <tr>\n",
       "      <th>50%</th>\n",
       "      <td>50161.000000</td>\n",
       "      <td>10.000000</td>\n",
       "      <td>40.000000</td>\n",
       "      <td>42.000000</td>\n",
       "      <td>0.000000</td>\n",
       "      <td>0.000000</td>\n",
       "    </tr>\n",
       "    <tr>\n",
       "      <th>75%</th>\n",
       "      <td>75516.500000</td>\n",
       "      <td>12.000000</td>\n",
       "      <td>45.000000</td>\n",
       "      <td>57.000000</td>\n",
       "      <td>0.000000</td>\n",
       "      <td>0.000000</td>\n",
       "    </tr>\n",
       "    <tr>\n",
       "      <th>max</th>\n",
       "      <td>99999.000000</td>\n",
       "      <td>16.000000</td>\n",
       "      <td>99.000000</td>\n",
       "      <td>93.000000</td>\n",
       "      <td>99999.000000</td>\n",
       "      <td>4356.000000</td>\n",
       "    </tr>\n",
       "  </tbody>\n",
       "</table>\n",
       "</div>"
      ],
      "text/plain": [
       "                Zip  Education-Num  Hours per week           Age  \\\n",
       "count  32563.000000   32563.000000    32563.000000  32563.000000   \n",
       "mean   50267.834198      10.080429       40.436201     41.772503   \n",
       "std    28938.770840       2.573138       12.349083     17.907765   \n",
       "min        4.000000       1.000000        0.000000      1.000000   \n",
       "25%    25151.500000       9.000000       40.000000     26.000000   \n",
       "50%    50161.000000      10.000000       40.000000     42.000000   \n",
       "75%    75516.500000      12.000000       45.000000     57.000000   \n",
       "max    99999.000000      16.000000       99.000000     93.000000   \n",
       "\n",
       "       Capital Gain  Capital Loss  \n",
       "count  32563.000000  32563.000000  \n",
       "mean    1077.582655     87.298468  \n",
       "std     7385.070103    402.948424  \n",
       "min        0.000000      0.000000  \n",
       "25%        0.000000      0.000000  \n",
       "50%        0.000000      0.000000  \n",
       "75%        0.000000      0.000000  \n",
       "max    99999.000000   4356.000000  "
      ]
     },
     "execution_count": 10,
     "metadata": {},
     "output_type": "execute_result"
    }
   ],
   "source": [
    "adult.describe()"
   ]
  },
  {
   "cell_type": "markdown",
   "metadata": {
    "id": "RyAYgV3-XN2r"
   },
   "source": [
    "## Question 5\n",
    "Write code to group the adult dataset by a single column and count the number of members in each group.\n"
   ]
  },
  {
   "cell_type": "code",
   "execution_count": 29,
   "metadata": {
    "id": "sT6thuvlXYhg"
   },
   "outputs": [],
   "source": [
    "def group_one_count(col):\n",
    "    # YOUR CODE HERE\n",
    "    # raise NotImplementedError()\n",
    "    \n",
    "    # Grouping by a single column\n",
    "    grouped_data = adult.groupby(col)\n",
    "    \n",
    "    # Counting the number of members in each group\n",
    "    group_counts = grouped_data.size()\n",
    "\n",
    "    return group_counts"
   ]
  },
  {
   "cell_type": "code",
   "execution_count": 30,
   "metadata": {
    "id": "9atfwxbEXj3U"
   },
   "outputs": [],
   "source": [
    "group_one_count('Education')\n",
    "s = group_one_count('Education')\n"
   ]
  },
  {
   "cell_type": "code",
   "execution_count": 31,
   "metadata": {
    "id": "Ra2RkFEcXh-5"
   },
   "outputs": [],
   "source": [
    "assert s['10th'] == 933\n",
    "assert s['9th'] == 514\n",
    "assert s['Some-college'] == 7291"
   ]
  },
  {
   "cell_type": "markdown",
   "metadata": {
    "id": "mMrSJU93XuVp"
   },
   "source": [
    "## Question 6\n",
    "Write code to group the adult dataset by two columns and count the number of members in each group.\n",
    "\n"
   ]
  },
  {
   "cell_type": "code",
   "execution_count": 43,
   "metadata": {
    "id": "RFFj15AUXK2P"
   },
   "outputs": [],
   "source": [
    "def group_two_count(col1, col2):\n",
    "    # YOUR CODE HERE\n",
    "    # raise NotImplementedError()\n",
    "    \n",
    "    # Grouping by a single column\n",
    "    grouped_data = adult.groupby([col1, col2])\n",
    "    \n",
    "    # Counting the number of members in each group\n",
    "    group_counts = grouped_data.size()\n",
    "\n",
    "    return group_counts"
   ]
  },
  {
   "cell_type": "code",
   "execution_count": 44,
   "metadata": {
    "id": "OctHgTiIYEoR"
   },
   "outputs": [],
   "source": [
    "group_two_count('Occupation', 'Education')\n",
    "s = group_two_count('Occupation', 'Education')\n"
   ]
  },
  {
   "cell_type": "code",
   "execution_count": 45,
   "metadata": {
    "id": "-Vh7cN1Cd14U"
   },
   "outputs": [],
   "source": [
    "assert s['Transport-moving']['Doctorate'] == 1\n",
    "assert s['Adm-clerical']['10th'] == 38"
   ]
  },
  {
   "cell_type": "code",
   "execution_count": 46,
   "metadata": {
    "colab": {
     "base_uri": "https://localhost:8080/"
    },
    "id": "xWunHN4DeTdi",
    "outputId": "01c98067-8f4d-4755-cf70-da2f1a85ac3e"
   },
   "outputs": [
    {
     "data": {
      "text/plain": [
       "1"
      ]
     },
     "execution_count": 46,
     "metadata": {},
     "output_type": "execute_result"
    }
   ],
   "source": [
    "s['Transport-moving']['Doctorate']"
   ]
  },
  {
   "cell_type": "markdown",
   "metadata": {
    "id": "RLC8_nQqg6W1"
   },
   "source": [
    "# Question 7\n",
    "Write code to perform a differencing attack to determine Brenn McNeely's age using only the mean aggregation function over large groups.Assume you have access to len of dataset\n"
   ]
  },
  {
   "cell_type": "code",
   "execution_count": null,
   "metadata": {
    "id": "HQf3ZAf6g3nz"
   },
   "outputs": [],
   "source": [
    "\n",
    "def get_brenns_age():\n",
    "    # YOUR CODE HERE\n",
    "    raise NotImplementedError()\n",
    "    \n",
    "    \n",
    "\n"
   ]
  },
  {
   "cell_type": "code",
   "execution_count": null,
   "metadata": {
    "id": "-C9vhfsMhFHz"
   },
   "outputs": [],
   "source": [
    "\n",
    "brenns_age = get_brenns_age()\n",
    "assert brenns_age == 32.0"
   ]
  },
  {
   "cell_type": "markdown",
   "metadata": {
    "id": "DyZlnpUY7q1i"
   },
   "source": [
    "Question 8\n",
    "What columns should we designate as quasi-identifiers in the dataset df, and why?\n",
    "\n",
    "YOUR ANSWER HERE"
   ]
  },
  {
   "cell_type": "code",
   "execution_count": null,
   "metadata": {
    "colab": {
     "base_uri": "https://localhost:8080/",
     "height": 363
    },
    "id": "jvDHYOXvYZVR",
    "outputId": "d396f6ae-8f07-448f-dfd5-031de3799f15"
   },
   "outputs": [],
   "source": [
    "# Display the DataFrame containing Education, Marital Status, and Target columns\n",
    "df = adult[['Education', 'Marital Status', 'Target']]\n",
    "df.head(10)"
   ]
  },
  {
   "cell_type": "markdown",
   "metadata": {
    "id": "ei-ZGvuzkw6O"
   },
   "source": [
    "# Question 8\n",
    "Does the dataset df satisfy\n",
    "3-Anonymity for\n",
    "? Why not?\n",
    "\n",
    "YOUR ANSWER HERE"
   ]
  },
  {
   "cell_type": "markdown",
   "metadata": {
    "id": "kNEeI8l077Bq"
   },
   "source": [
    "# Question 9\n",
    "Imagine the column Target is not a quasi-identifier, and we generalize the dataset to achieve\n",
    "-Anonymity for\n",
    " as follows:\n",
    "\n",
    "Do this in code Replace each education level below \"HS Grad\" with < HS and others with >= HS\n",
    "Replace marital status with Married and Not Married\n",
    "Delete rows as required to achieve\n",
    "-anonymity for\n",
    "For which rows is a homogeneity attack possible, and why?\n",
    "\n",
    "YOUR ANSWER HERE after executing code"
   ]
  },
  {
   "cell_type": "markdown",
   "metadata": {
    "id": "FtA9vg07QoyB"
   },
   "source": [
    "#Question 10\n",
    "Write code to generalize the Zip column in the adult dataset.\n",
    "\n"
   ]
  },
  {
   "cell_type": "code",
   "execution_count": null,
   "metadata": {
    "id": "dav3a7zNQwkT"
   },
   "outputs": [],
   "source": [
    "def generalize_zip(zip, depth):\n",
    "    # YOUR CODE HERE\n",
    "    raise NotImplementedError()\n"
   ]
  },
  {
   "cell_type": "markdown",
   "metadata": {
    "id": "7oxjsB7acEOY"
   },
   "source": [
    "#Question 11"
   ]
  },
  {
   "cell_type": "code",
   "execution_count": null,
   "metadata": {
    "id": "rFM6giBacFiH"
   },
   "outputs": [],
   "source": [
    "# Load the data and libraries\n",
    "import pandas as pd\n",
    "import numpy as np\n",
    "from scipy import stats\n",
    "import matplotlib.pyplot as plt"
   ]
  },
  {
   "cell_type": "markdown",
   "metadata": {
    "id": "lIOezBtIcUPr"
   },
   "source": [
    "Write a counting query to determine whether or not Karrie Trusslove's age is 39."
   ]
  },
  {
   "cell_type": "code",
   "execution_count": null,
   "metadata": {
    "id": "ko6pE_LOcUnF"
   },
   "outputs": [],
   "source": [
    "# YOUR CODE HERE\n",
    "raise NotImplementedError()\n",
    "# TEST CASE\n",
    "\n",
    "assert karrie_query() == 1"
   ]
  },
  {
   "cell_type": "markdown",
   "metadata": {
    "id": "1l7xPcmhcblo"
   },
   "source": [
    "# Question 12\n",
    "\n",
    "Add Laplace noise to the counting query you wrote in the last question to ensure differential privacy for epsilon=1\n",
    ".\n"
   ]
  },
  {
   "cell_type": "code",
   "execution_count": null,
   "metadata": {
    "id": "MbB3SVsPcdZm"
   },
   "outputs": [],
   "source": [
    "\n",
    "# YOUR CODE HERE\n",
    "raise NotImplementedError()\n",
    "# TEST CASE\n",
    "\n",
    "q2_runs = [dp_karrie_query() for _ in range(100)]\n",
    "noise_runs = [np.random.laplace(loc=1, scale=1/epsilon) for _ in range(100)]\n",
    "\n",
    "assert stats.wasserstein_distance(q2_runs, noise_runs) < 1"
   ]
  },
  {
   "cell_type": "markdown",
   "metadata": {
    "id": "02xhRA7Fefgn"
   },
   "source": [
    "# Question 13\n",
    "\n",
    "Now lets generalize above approach to a function\n"
   ]
  },
  {
   "cell_type": "code",
   "execution_count": null,
   "metadata": {
    "id": "kcUjPSARelV9"
   },
   "outputs": [],
   "source": [
    "def laplace_mech(v, sensitivity, epsilon):\n",
    "    # YOUR CODE HERE\n",
    "    raise NotImplementedError()\n"
   ]
  },
  {
   "cell_type": "code",
   "execution_count": null,
   "metadata": {
    "id": "bOHBTXiCepQ6"
   },
   "outputs": [],
   "source": [
    "# TEST CASE for question\n",
    "dist1 = [laplace_mech(50, 1, 1.0) for _ in range(200)]\n",
    "dist2 = [np.random.laplace(loc=50, scale=1) for _ in range(200)]\n",
    "\n",
    "assert stats.wasserstein_distance(dist1, dist2) < 1"
   ]
  },
  {
   "cell_type": "markdown",
   "metadata": {
    "id": "c7F2VC_Ceyz4"
   },
   "source": [
    "# Question 14\n",
    "Complete the definition of dp_sum_capgain below. Your definition should compute a differentially private sum of the \"Capital Gain\" column of the adult dataset, and have a total privacy cost of epsilon.\n",
    "\n",
    "\n",
    "In 2-5 sentences each, answer the following:\n",
    "\n",
    "What clipping parameter did you use in your definition of dp_sum_capital, and why?\n",
    "What was the sensitivity of the query you used in dp_sum_capital, and how is it bounded?\n",
    "Argue that your definition of dp_sum_capital has a total privacy cost of epsilon\n",
    "YOUR ANSWER HERE"
   ]
  },
  {
   "cell_type": "code",
   "execution_count": null,
   "metadata": {
    "id": "MO1eSth5ffk0"
   },
   "outputs": [],
   "source": [
    "def dp_sum_capgain(epsilon):\n",
    "    # YOUR CODE HERE\n",
    "    raise NotImplementedError()\n",
    "\n",
    "dp_sum_capgain(1.0)\n",
    "# TEST CASE for question\n",
    "def pct_error(orig, priv):\n",
    "    return np.abs(orig - priv)/orig * 100.0\n",
    "\n"
   ]
  },
  {
   "cell_type": "code",
   "execution_count": null,
   "metadata": {
    "id": "dvnaOqbqbRef"
   },
   "outputs": [],
   "source": [
    "real_sum = adult['Capital Gain'].sum()\n",
    "r1 = np.mean([pct_error(real_sum, dp_sum_capgain(0.1)) for _ in range(100)])\n",
    "r2 = np.mean([pct_error(real_sum, dp_sum_capgain(1.0)) for _ in range(100)])\n",
    "r3 = np.mean([pct_error(real_sum, dp_sum_capgain(10.0)) for _ in range(100)])\n",
    "\n",
    "print(\"Average errors:\", r1, r2, r3)\n"
   ]
  },
  {
   "cell_type": "markdown",
   "metadata": {
    "id": "weao8xbnphpb"
   },
   "source": [
    "# Reference\n",
    " https://programming-dp.com/book.pdf( book for programming differential privacy)\n",
    "\n",
    " https://colab.research.google.com/drive/1azul6Syiu469PAEPcou0OgSc40ROaCb3?usp=sharing( PART 1 of class hands on tutorial)\n",
    "\n",
    "\n"
   ]
  }
 ],
 "metadata": {
  "celltoolbar": "Tags",
  "colab": {
   "provenance": []
  },
  "kernelspec": {
   "display_name": "Python 3 (ipykernel)",
   "language": "python",
   "name": "python3"
  },
  "language_info": {
   "codemirror_mode": {
    "name": "ipython",
    "version": 3
   },
   "file_extension": ".py",
   "mimetype": "text/x-python",
   "name": "python",
   "nbconvert_exporter": "python",
   "pygments_lexer": "ipython3",
   "version": "3.12.2"
  }
 },
 "nbformat": 4,
 "nbformat_minor": 1
}
