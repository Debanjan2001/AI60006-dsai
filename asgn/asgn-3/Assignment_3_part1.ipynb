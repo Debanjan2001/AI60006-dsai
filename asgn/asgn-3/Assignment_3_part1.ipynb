{
  "cells": [
    {
      "cell_type": "code",
      "source": [
        "# Load the data and libraries\n",
        "import pandas as pd\n",
        "import numpy as np\n",
        "\n",
        "adult = pd.read_csv('adult_with_pii.csv')"
      ],
      "metadata": {
        "id": "4rYdyu-0TTcC"
      },
      "execution_count": null,
      "outputs": []
    },
    {
      "cell_type": "markdown",
      "source": [
        "## Question 1\n",
        "\"Construct a de-identified version of the adult dataset\"\n",
        "What columns did you remove from the dataset to de-identify it? Why did you choose these columns? Why did you not choose the remaining columns?\n",
        "\n",
        "YOUR ANSWER HERE"
      ],
      "metadata": {
        "id": "dX0ZS71HTcbH"
      }
    },
    {
      "cell_type": "code",
      "source": [
        "def deidentify_adult():\n",
        "    # YOUR CODE HERE\n",
        "    raise NotImplementedError()\n",
        "\n",
        "adult_deid = deidentify_adult()"
      ],
      "metadata": {
        "id": "gaNIdlpsTbli"
      },
      "execution_count": null,
      "outputs": []
    },
    {
      "cell_type": "markdown",
      "source": [
        "## Question 2\n",
        "Write a pandas expression to return just the row containing information about Brenn McNeely."
      ],
      "metadata": {
        "id": "YncbVy3XUcI7"
      }
    },
    {
      "cell_type": "code",
      "source": [
        "def get_brenns_row():\n",
        "    # YOUR CODE HERE\n",
        "    raise NotImplementedError()\n",
        "\n",
        "brenns_row = get_brenns_row()[['Name', 'DOB', 'Zip', 'Age']]"
      ],
      "metadata": {
        "id": "nZksns94Ubb5"
      },
      "execution_count": null,
      "outputs": []
    },
    {
      "cell_type": "code",
      "source": [
        "assert len(brenns_row) == 1\n",
        "assert brenns_row['Zip'].iloc[0] == 95668\n",
        "assert brenns_row['Age'].iloc[0] == 38"
      ],
      "metadata": {
        "id": "BPJyTmwVUnxq"
      },
      "execution_count": null,
      "outputs": []
    },
    {
      "cell_type": "code",
      "source": [
        "brenns_row"
      ],
      "metadata": {
        "id": "dMCoH4FaUrbw"
      },
      "execution_count": null,
      "outputs": []
    },
    {
      "cell_type": "markdown",
      "source": [
        "# Question 3\n",
        "Conduct a linking attack to recover Brenn's data from the adult_deid dataset."
      ],
      "metadata": {
        "id": "2NG8-t_6VLzW"
      }
    },
    {
      "cell_type": "code",
      "source": [
        "def recover_brenns_row():\n",
        "    # YOUR CODE HERE\n",
        "    raise NotImplementedError()\n",
        "\n",
        "brenns_recovered_row = recover_brenns_row()\n"
      ],
      "metadata": {
        "id": "6osKUtowVVpn"
      },
      "execution_count": null,
      "outputs": []
    },
    {
      "cell_type": "code",
      "source": [
        "assert len(brenns_recovered_row) == 1\n",
        "assert brenns_recovered_row['Education'].iloc[0] == 'HS-grad'"
      ],
      "metadata": {
        "id": "zo5jsYXmVcHl"
      },
      "execution_count": null,
      "outputs": []
    },
    {
      "cell_type": "markdown",
      "source": [
        "# Question 4\n",
        "What is the maximum age recorded in the dataset?\n",
        "\n",
        "What is the difference in the sum of ages between the entire dataset and the dataset excluding Brenn McNeely's age?\n",
        "\n",
        "What is the mean age of individuals in the dataset?"
      ],
      "metadata": {
        "id": "nNl5IZhUWdFR"
      }
    },
    {
      "cell_type": "markdown",
      "source": [
        "## Question 5\n",
        "Write code to group the adult dataset by a single column and count the number of members in each group.\n"
      ],
      "metadata": {
        "id": "RyAYgV3-XN2r"
      }
    },
    {
      "cell_type": "code",
      "source": [
        "def group_one_count(col):\n",
        "    # YOUR CODE HERE\n",
        "    raise NotImplementedError()\n"
      ],
      "metadata": {
        "id": "sT6thuvlXYhg"
      },
      "execution_count": null,
      "outputs": []
    },
    {
      "cell_type": "code",
      "source": [
        "group_one_count('Education')\n",
        "s = group_one_count('Education')\n"
      ],
      "metadata": {
        "id": "9atfwxbEXj3U"
      },
      "execution_count": null,
      "outputs": []
    },
    {
      "cell_type": "code",
      "source": [
        "assert s['10th'] == 933\n",
        "assert s['9th'] == 514\n",
        "assert s['Some-college'] == 7291"
      ],
      "metadata": {
        "id": "Ra2RkFEcXh-5"
      },
      "execution_count": null,
      "outputs": []
    },
    {
      "cell_type": "markdown",
      "source": [
        "## Question 6\n",
        "Write code to group the adult dataset by two columns and count the number of members in each group.\n",
        "\n"
      ],
      "metadata": {
        "id": "mMrSJU93XuVp"
      }
    },
    {
      "cell_type": "code",
      "source": [
        "def group_two_count(col1, col2):\n",
        "    # YOUR CODE HERE\n",
        "    raise NotImplementedError()\n"
      ],
      "metadata": {
        "id": "RFFj15AUXK2P"
      },
      "execution_count": null,
      "outputs": []
    },
    {
      "cell_type": "code",
      "source": [
        "group_two_count('Occupation', 'Education')\n",
        "s = group_two_count('Occupation', 'Education')\n"
      ],
      "metadata": {
        "id": "OctHgTiIYEoR"
      },
      "execution_count": null,
      "outputs": []
    },
    {
      "cell_type": "code",
      "source": [
        "assert s['Transport-moving']['Doctorate'] == 1\n",
        "assert s['Adm-clerical']['10th'] == 38"
      ],
      "metadata": {
        "id": "-Vh7cN1Cd14U"
      },
      "execution_count": null,
      "outputs": []
    },
    {
      "cell_type": "code",
      "source": [
        "s['Transport-moving']['Doctorate']"
      ],
      "metadata": {
        "colab": {
          "base_uri": "https://localhost:8080/"
        },
        "id": "xWunHN4DeTdi",
        "outputId": "01c98067-8f4d-4755-cf70-da2f1a85ac3e"
      },
      "execution_count": null,
      "outputs": [
        {
          "output_type": "execute_result",
          "data": {
            "text/plain": [
              "1"
            ]
          },
          "metadata": {},
          "execution_count": 60
        }
      ]
    },
    {
      "cell_type": "markdown",
      "source": [
        "# Question 7\n",
        "Write code to perform a differencing attack to determine Brenn McNeely's age using only the mean aggregation function over large groups.Assume you have access to len of dataset\n"
      ],
      "metadata": {
        "id": "RLC8_nQqg6W1"
      }
    },
    {
      "cell_type": "code",
      "source": [
        "\n",
        "def get_brenns_age():\n",
        "    # YOUR CODE HERE\n",
        "    raise NotImplementedError()\n",
        "\n"
      ],
      "metadata": {
        "id": "HQf3ZAf6g3nz"
      },
      "execution_count": null,
      "outputs": []
    },
    {
      "cell_type": "code",
      "source": [
        "\n",
        "brenns_age = get_brenns_age()\n",
        "assert brenns_age == 32.0"
      ],
      "metadata": {
        "id": "-C9vhfsMhFHz"
      },
      "execution_count": null,
      "outputs": []
    },
    {
      "cell_type": "markdown",
      "source": [
        "Question 8\n",
        "What columns should we designate as quasi-identifiers in the dataset df, and why?\n",
        "\n",
        "YOUR ANSWER HERE"
      ],
      "metadata": {
        "id": "DyZlnpUY7q1i"
      }
    },
    {
      "cell_type": "code",
      "source": [
        "# Display the DataFrame containing Education, Marital Status, and Target columns\n",
        "df = adult[['Education', 'Marital Status', 'Target']]\n",
        "df.head(10)"
      ],
      "metadata": {
        "colab": {
          "base_uri": "https://localhost:8080/",
          "height": 363
        },
        "id": "jvDHYOXvYZVR",
        "outputId": "d396f6ae-8f07-448f-dfd5-031de3799f15"
      },
      "execution_count": null,
      "outputs": [
        {
          "output_type": "execute_result",
          "data": {
            "text/plain": [
              "   Education         Marital Status Target\n",
              "0  Bachelors          Never-married  <=50K\n",
              "1  Bachelors     Married-civ-spouse  <=50K\n",
              "2    HS-grad               Divorced  <=50K\n",
              "3       11th     Married-civ-spouse  <=50K\n",
              "4  Bachelors     Married-civ-spouse  <=50K\n",
              "5    Masters     Married-civ-spouse  <=50K\n",
              "6        9th  Married-spouse-absent  <=50K\n",
              "7    HS-grad     Married-civ-spouse   >50K\n",
              "8    Masters          Never-married   >50K\n",
              "9  Bachelors     Married-civ-spouse   >50K"
            ],
            "text/html": [
              "\n",
              "  <div id=\"df-46a6a44a-8cd6-45b3-8b42-80c597f0756c\" class=\"colab-df-container\">\n",
              "    <div>\n",
              "<style scoped>\n",
              "    .dataframe tbody tr th:only-of-type {\n",
              "        vertical-align: middle;\n",
              "    }\n",
              "\n",
              "    .dataframe tbody tr th {\n",
              "        vertical-align: top;\n",
              "    }\n",
              "\n",
              "    .dataframe thead th {\n",
              "        text-align: right;\n",
              "    }\n",
              "</style>\n",
              "<table border=\"1\" class=\"dataframe\">\n",
              "  <thead>\n",
              "    <tr style=\"text-align: right;\">\n",
              "      <th></th>\n",
              "      <th>Education</th>\n",
              "      <th>Marital Status</th>\n",
              "      <th>Target</th>\n",
              "    </tr>\n",
              "  </thead>\n",
              "  <tbody>\n",
              "    <tr>\n",
              "      <th>0</th>\n",
              "      <td>Bachelors</td>\n",
              "      <td>Never-married</td>\n",
              "      <td>&lt;=50K</td>\n",
              "    </tr>\n",
              "    <tr>\n",
              "      <th>1</th>\n",
              "      <td>Bachelors</td>\n",
              "      <td>Married-civ-spouse</td>\n",
              "      <td>&lt;=50K</td>\n",
              "    </tr>\n",
              "    <tr>\n",
              "      <th>2</th>\n",
              "      <td>HS-grad</td>\n",
              "      <td>Divorced</td>\n",
              "      <td>&lt;=50K</td>\n",
              "    </tr>\n",
              "    <tr>\n",
              "      <th>3</th>\n",
              "      <td>11th</td>\n",
              "      <td>Married-civ-spouse</td>\n",
              "      <td>&lt;=50K</td>\n",
              "    </tr>\n",
              "    <tr>\n",
              "      <th>4</th>\n",
              "      <td>Bachelors</td>\n",
              "      <td>Married-civ-spouse</td>\n",
              "      <td>&lt;=50K</td>\n",
              "    </tr>\n",
              "    <tr>\n",
              "      <th>5</th>\n",
              "      <td>Masters</td>\n",
              "      <td>Married-civ-spouse</td>\n",
              "      <td>&lt;=50K</td>\n",
              "    </tr>\n",
              "    <tr>\n",
              "      <th>6</th>\n",
              "      <td>9th</td>\n",
              "      <td>Married-spouse-absent</td>\n",
              "      <td>&lt;=50K</td>\n",
              "    </tr>\n",
              "    <tr>\n",
              "      <th>7</th>\n",
              "      <td>HS-grad</td>\n",
              "      <td>Married-civ-spouse</td>\n",
              "      <td>&gt;50K</td>\n",
              "    </tr>\n",
              "    <tr>\n",
              "      <th>8</th>\n",
              "      <td>Masters</td>\n",
              "      <td>Never-married</td>\n",
              "      <td>&gt;50K</td>\n",
              "    </tr>\n",
              "    <tr>\n",
              "      <th>9</th>\n",
              "      <td>Bachelors</td>\n",
              "      <td>Married-civ-spouse</td>\n",
              "      <td>&gt;50K</td>\n",
              "    </tr>\n",
              "  </tbody>\n",
              "</table>\n",
              "</div>\n",
              "    <div class=\"colab-df-buttons\">\n",
              "\n",
              "  <div class=\"colab-df-container\">\n",
              "    <button class=\"colab-df-convert\" onclick=\"convertToInteractive('df-46a6a44a-8cd6-45b3-8b42-80c597f0756c')\"\n",
              "            title=\"Convert this dataframe to an interactive table.\"\n",
              "            style=\"display:none;\">\n",
              "\n",
              "  <svg xmlns=\"http://www.w3.org/2000/svg\" height=\"24px\" viewBox=\"0 -960 960 960\">\n",
              "    <path d=\"M120-120v-720h720v720H120Zm60-500h600v-160H180v160Zm220 220h160v-160H400v160Zm0 220h160v-160H400v160ZM180-400h160v-160H180v160Zm440 0h160v-160H620v160ZM180-180h160v-160H180v160Zm440 0h160v-160H620v160Z\"/>\n",
              "  </svg>\n",
              "    </button>\n",
              "\n",
              "  <style>\n",
              "    .colab-df-container {\n",
              "      display:flex;\n",
              "      gap: 12px;\n",
              "    }\n",
              "\n",
              "    .colab-df-convert {\n",
              "      background-color: #E8F0FE;\n",
              "      border: none;\n",
              "      border-radius: 50%;\n",
              "      cursor: pointer;\n",
              "      display: none;\n",
              "      fill: #1967D2;\n",
              "      height: 32px;\n",
              "      padding: 0 0 0 0;\n",
              "      width: 32px;\n",
              "    }\n",
              "\n",
              "    .colab-df-convert:hover {\n",
              "      background-color: #E2EBFA;\n",
              "      box-shadow: 0px 1px 2px rgba(60, 64, 67, 0.3), 0px 1px 3px 1px rgba(60, 64, 67, 0.15);\n",
              "      fill: #174EA6;\n",
              "    }\n",
              "\n",
              "    .colab-df-buttons div {\n",
              "      margin-bottom: 4px;\n",
              "    }\n",
              "\n",
              "    [theme=dark] .colab-df-convert {\n",
              "      background-color: #3B4455;\n",
              "      fill: #D2E3FC;\n",
              "    }\n",
              "\n",
              "    [theme=dark] .colab-df-convert:hover {\n",
              "      background-color: #434B5C;\n",
              "      box-shadow: 0px 1px 3px 1px rgba(0, 0, 0, 0.15);\n",
              "      filter: drop-shadow(0px 1px 2px rgba(0, 0, 0, 0.3));\n",
              "      fill: #FFFFFF;\n",
              "    }\n",
              "  </style>\n",
              "\n",
              "    <script>\n",
              "      const buttonEl =\n",
              "        document.querySelector('#df-46a6a44a-8cd6-45b3-8b42-80c597f0756c button.colab-df-convert');\n",
              "      buttonEl.style.display =\n",
              "        google.colab.kernel.accessAllowed ? 'block' : 'none';\n",
              "\n",
              "      async function convertToInteractive(key) {\n",
              "        const element = document.querySelector('#df-46a6a44a-8cd6-45b3-8b42-80c597f0756c');\n",
              "        const dataTable =\n",
              "          await google.colab.kernel.invokeFunction('convertToInteractive',\n",
              "                                                    [key], {});\n",
              "        if (!dataTable) return;\n",
              "\n",
              "        const docLinkHtml = 'Like what you see? Visit the ' +\n",
              "          '<a target=\"_blank\" href=https://colab.research.google.com/notebooks/data_table.ipynb>data table notebook</a>'\n",
              "          + ' to learn more about interactive tables.';\n",
              "        element.innerHTML = '';\n",
              "        dataTable['output_type'] = 'display_data';\n",
              "        await google.colab.output.renderOutput(dataTable, element);\n",
              "        const docLink = document.createElement('div');\n",
              "        docLink.innerHTML = docLinkHtml;\n",
              "        element.appendChild(docLink);\n",
              "      }\n",
              "    </script>\n",
              "  </div>\n",
              "\n",
              "\n",
              "<div id=\"df-858a9928-3517-4035-9ebd-18e10ec5c735\">\n",
              "  <button class=\"colab-df-quickchart\" onclick=\"quickchart('df-858a9928-3517-4035-9ebd-18e10ec5c735')\"\n",
              "            title=\"Suggest charts\"\n",
              "            style=\"display:none;\">\n",
              "\n",
              "<svg xmlns=\"http://www.w3.org/2000/svg\" height=\"24px\"viewBox=\"0 0 24 24\"\n",
              "     width=\"24px\">\n",
              "    <g>\n",
              "        <path d=\"M19 3H5c-1.1 0-2 .9-2 2v14c0 1.1.9 2 2 2h14c1.1 0 2-.9 2-2V5c0-1.1-.9-2-2-2zM9 17H7v-7h2v7zm4 0h-2V7h2v10zm4 0h-2v-4h2v4z\"/>\n",
              "    </g>\n",
              "</svg>\n",
              "  </button>\n",
              "\n",
              "<style>\n",
              "  .colab-df-quickchart {\n",
              "      --bg-color: #E8F0FE;\n",
              "      --fill-color: #1967D2;\n",
              "      --hover-bg-color: #E2EBFA;\n",
              "      --hover-fill-color: #174EA6;\n",
              "      --disabled-fill-color: #AAA;\n",
              "      --disabled-bg-color: #DDD;\n",
              "  }\n",
              "\n",
              "  [theme=dark] .colab-df-quickchart {\n",
              "      --bg-color: #3B4455;\n",
              "      --fill-color: #D2E3FC;\n",
              "      --hover-bg-color: #434B5C;\n",
              "      --hover-fill-color: #FFFFFF;\n",
              "      --disabled-bg-color: #3B4455;\n",
              "      --disabled-fill-color: #666;\n",
              "  }\n",
              "\n",
              "  .colab-df-quickchart {\n",
              "    background-color: var(--bg-color);\n",
              "    border: none;\n",
              "    border-radius: 50%;\n",
              "    cursor: pointer;\n",
              "    display: none;\n",
              "    fill: var(--fill-color);\n",
              "    height: 32px;\n",
              "    padding: 0;\n",
              "    width: 32px;\n",
              "  }\n",
              "\n",
              "  .colab-df-quickchart:hover {\n",
              "    background-color: var(--hover-bg-color);\n",
              "    box-shadow: 0 1px 2px rgba(60, 64, 67, 0.3), 0 1px 3px 1px rgba(60, 64, 67, 0.15);\n",
              "    fill: var(--button-hover-fill-color);\n",
              "  }\n",
              "\n",
              "  .colab-df-quickchart-complete:disabled,\n",
              "  .colab-df-quickchart-complete:disabled:hover {\n",
              "    background-color: var(--disabled-bg-color);\n",
              "    fill: var(--disabled-fill-color);\n",
              "    box-shadow: none;\n",
              "  }\n",
              "\n",
              "  .colab-df-spinner {\n",
              "    border: 2px solid var(--fill-color);\n",
              "    border-color: transparent;\n",
              "    border-bottom-color: var(--fill-color);\n",
              "    animation:\n",
              "      spin 1s steps(1) infinite;\n",
              "  }\n",
              "\n",
              "  @keyframes spin {\n",
              "    0% {\n",
              "      border-color: transparent;\n",
              "      border-bottom-color: var(--fill-color);\n",
              "      border-left-color: var(--fill-color);\n",
              "    }\n",
              "    20% {\n",
              "      border-color: transparent;\n",
              "      border-left-color: var(--fill-color);\n",
              "      border-top-color: var(--fill-color);\n",
              "    }\n",
              "    30% {\n",
              "      border-color: transparent;\n",
              "      border-left-color: var(--fill-color);\n",
              "      border-top-color: var(--fill-color);\n",
              "      border-right-color: var(--fill-color);\n",
              "    }\n",
              "    40% {\n",
              "      border-color: transparent;\n",
              "      border-right-color: var(--fill-color);\n",
              "      border-top-color: var(--fill-color);\n",
              "    }\n",
              "    60% {\n",
              "      border-color: transparent;\n",
              "      border-right-color: var(--fill-color);\n",
              "    }\n",
              "    80% {\n",
              "      border-color: transparent;\n",
              "      border-right-color: var(--fill-color);\n",
              "      border-bottom-color: var(--fill-color);\n",
              "    }\n",
              "    90% {\n",
              "      border-color: transparent;\n",
              "      border-bottom-color: var(--fill-color);\n",
              "    }\n",
              "  }\n",
              "</style>\n",
              "\n",
              "  <script>\n",
              "    async function quickchart(key) {\n",
              "      const quickchartButtonEl =\n",
              "        document.querySelector('#' + key + ' button');\n",
              "      quickchartButtonEl.disabled = true;  // To prevent multiple clicks.\n",
              "      quickchartButtonEl.classList.add('colab-df-spinner');\n",
              "      try {\n",
              "        const charts = await google.colab.kernel.invokeFunction(\n",
              "            'suggestCharts', [key], {});\n",
              "      } catch (error) {\n",
              "        console.error('Error during call to suggestCharts:', error);\n",
              "      }\n",
              "      quickchartButtonEl.classList.remove('colab-df-spinner');\n",
              "      quickchartButtonEl.classList.add('colab-df-quickchart-complete');\n",
              "    }\n",
              "    (() => {\n",
              "      let quickchartButtonEl =\n",
              "        document.querySelector('#df-858a9928-3517-4035-9ebd-18e10ec5c735 button');\n",
              "      quickchartButtonEl.style.display =\n",
              "        google.colab.kernel.accessAllowed ? 'block' : 'none';\n",
              "    })();\n",
              "  </script>\n",
              "</div>\n",
              "\n",
              "    </div>\n",
              "  </div>\n"
            ],
            "application/vnd.google.colaboratory.intrinsic+json": {
              "type": "dataframe",
              "variable_name": "df",
              "summary": "{\n  \"name\": \"df\",\n  \"rows\": 32563,\n  \"fields\": [\n    {\n      \"column\": \"Education\",\n      \"properties\": {\n        \"dtype\": \"category\",\n        \"num_unique_values\": 17,\n        \"samples\": [\n          \"Bachelors\",\n          \"HS-grad\",\n          \"Some-college\"\n        ],\n        \"semantic_type\": \"\",\n        \"description\": \"\"\n      }\n    },\n    {\n      \"column\": \"Marital Status\",\n      \"properties\": {\n        \"dtype\": \"category\",\n        \"num_unique_values\": 7,\n        \"samples\": [\n          \"Never-married\",\n          \"Married-civ-spouse\",\n          \"Married-AF-spouse\"\n        ],\n        \"semantic_type\": \"\",\n        \"description\": \"\"\n      }\n    },\n    {\n      \"column\": \"Target\",\n      \"properties\": {\n        \"dtype\": \"category\",\n        \"num_unique_values\": 2,\n        \"samples\": [\n          \">50K\",\n          \"<=50K\"\n        ],\n        \"semantic_type\": \"\",\n        \"description\": \"\"\n      }\n    }\n  ]\n}"
            }
          },
          "metadata": {},
          "execution_count": 71
        }
      ]
    },
    {
      "cell_type": "markdown",
      "source": [
        "# Question 8\n",
        "Does the dataset df satisfy\n",
        "3-Anonymity for\n",
        "? Why not?\n",
        "\n",
        "YOUR ANSWER HERE"
      ],
      "metadata": {
        "id": "ei-ZGvuzkw6O"
      }
    },
    {
      "cell_type": "markdown",
      "source": [
        "# Question 9\n",
        "Imagine the column Target is not a quasi-identifier, and we generalize the dataset to achieve\n",
        "-Anonymity for\n",
        " as follows:\n",
        "\n",
        "Do this in code Replace each education level below \"HS Grad\" with < HS and others with >= HS\n",
        "Replace marital status with Married and Not Married\n",
        "Delete rows as required to achieve\n",
        "-anonymity for\n",
        "For which rows is a homogeneity attack possible, and why?\n",
        "\n",
        "YOUR ANSWER HERE after executing code"
      ],
      "metadata": {
        "id": "kNEeI8l077Bq"
      }
    },
    {
      "cell_type": "markdown",
      "source": [
        "#Question 10\n",
        "Write code to generalize the Zip column in the adult dataset.\n",
        "\n"
      ],
      "metadata": {
        "id": "FtA9vg07QoyB"
      }
    },
    {
      "cell_type": "code",
      "source": [
        "def generalize_zip(zip, depth):\n",
        "    # YOUR CODE HERE\n",
        "    raise NotImplementedError()\n"
      ],
      "metadata": {
        "id": "dav3a7zNQwkT"
      },
      "execution_count": null,
      "outputs": []
    },
    {
      "cell_type": "markdown",
      "source": [
        "#Question 11"
      ],
      "metadata": {
        "id": "7oxjsB7acEOY"
      }
    },
    {
      "cell_type": "code",
      "source": [
        "# Load the data and libraries\n",
        "import pandas as pd\n",
        "import numpy as np\n",
        "from scipy import stats\n",
        "import matplotlib.pyplot as plt"
      ],
      "metadata": {
        "id": "rFM6giBacFiH"
      },
      "execution_count": null,
      "outputs": []
    },
    {
      "cell_type": "markdown",
      "source": [
        "Write a counting query to determine whether or not Karrie Trusslove's age is 39."
      ],
      "metadata": {
        "id": "lIOezBtIcUPr"
      }
    },
    {
      "cell_type": "code",
      "source": [
        "# YOUR CODE HERE\n",
        "raise NotImplementedError()\n",
        "# TEST CASE\n",
        "\n",
        "assert karrie_query() == 1"
      ],
      "metadata": {
        "id": "ko6pE_LOcUnF"
      },
      "execution_count": null,
      "outputs": []
    },
    {
      "cell_type": "markdown",
      "source": [
        "# Question 12\n",
        "\n",
        "Add Laplace noise to the counting query you wrote in the last question to ensure differential privacy for epsilon=1\n",
        ".\n"
      ],
      "metadata": {
        "id": "1l7xPcmhcblo"
      }
    },
    {
      "cell_type": "code",
      "source": [
        "\n",
        "# YOUR CODE HERE\n",
        "raise NotImplementedError()\n",
        "# TEST CASE\n",
        "\n",
        "q2_runs = [dp_karrie_query() for _ in range(100)]\n",
        "noise_runs = [np.random.laplace(loc=1, scale=1/epsilon) for _ in range(100)]\n",
        "\n",
        "assert stats.wasserstein_distance(q2_runs, noise_runs) < 1"
      ],
      "metadata": {
        "id": "MbB3SVsPcdZm"
      },
      "execution_count": null,
      "outputs": []
    },
    {
      "cell_type": "markdown",
      "source": [
        "# Question 13\n",
        "\n",
        "Now lets generalize above approach to a function\n"
      ],
      "metadata": {
        "id": "02xhRA7Fefgn"
      }
    },
    {
      "cell_type": "code",
      "source": [
        "def laplace_mech(v, sensitivity, epsilon):\n",
        "    # YOUR CODE HERE\n",
        "    raise NotImplementedError()\n"
      ],
      "metadata": {
        "id": "kcUjPSARelV9"
      },
      "execution_count": null,
      "outputs": []
    },
    {
      "cell_type": "code",
      "source": [
        "# TEST CASE for question\n",
        "dist1 = [laplace_mech(50, 1, 1.0) for _ in range(200)]\n",
        "dist2 = [np.random.laplace(loc=50, scale=1) for _ in range(200)]\n",
        "\n",
        "assert stats.wasserstein_distance(dist1, dist2) < 1"
      ],
      "metadata": {
        "id": "bOHBTXiCepQ6"
      },
      "execution_count": null,
      "outputs": []
    },
    {
      "cell_type": "markdown",
      "source": [
        "# Question 14\n",
        "Complete the definition of dp_sum_capgain below. Your definition should compute a differentially private sum of the \"Capital Gain\" column of the adult dataset, and have a total privacy cost of epsilon.\n",
        "\n",
        "\n",
        "In 2-5 sentences each, answer the following:\n",
        "\n",
        "What clipping parameter did you use in your definition of dp_sum_capital, and why?\n",
        "What was the sensitivity of the query you used in dp_sum_capital, and how is it bounded?\n",
        "Argue that your definition of dp_sum_capital has a total privacy cost of epsilon\n",
        "YOUR ANSWER HERE"
      ],
      "metadata": {
        "id": "c7F2VC_Ceyz4"
      }
    },
    {
      "cell_type": "code",
      "source": [
        "def dp_sum_capgain(epsilon):\n",
        "    # YOUR CODE HERE\n",
        "    raise NotImplementedError()\n",
        "\n",
        "dp_sum_capgain(1.0)\n",
        "# TEST CASE for question\n",
        "def pct_error(orig, priv):\n",
        "    return np.abs(orig - priv)/orig * 100.0\n",
        "\n"
      ],
      "metadata": {
        "id": "MO1eSth5ffk0"
      },
      "execution_count": null,
      "outputs": []
    },
    {
      "cell_type": "code",
      "source": [
        "real_sum = adult['Capital Gain'].sum()\n",
        "r1 = np.mean([pct_error(real_sum, dp_sum_capgain(0.1)) for _ in range(100)])\n",
        "r2 = np.mean([pct_error(real_sum, dp_sum_capgain(1.0)) for _ in range(100)])\n",
        "r3 = np.mean([pct_error(real_sum, dp_sum_capgain(10.0)) for _ in range(100)])\n",
        "\n",
        "print(\"Average errors:\", r1, r2, r3)\n"
      ],
      "metadata": {
        "id": "dvnaOqbqbRef"
      },
      "execution_count": null,
      "outputs": []
    },
    {
      "cell_type": "markdown",
      "source": [
        "# Reference\n",
        " https://programming-dp.com/book.pdf( book for programming differential privacy)\n",
        "\n",
        " https://colab.research.google.com/drive/1azul6Syiu469PAEPcou0OgSc40ROaCb3?usp=sharing( PART 1 of class hands on tutorial)\n",
        "\n",
        "\n"
      ],
      "metadata": {
        "id": "weao8xbnphpb"
      }
    }
  ],
  "metadata": {
    "celltoolbar": "Tags",
    "kernelspec": {
      "display_name": "Python 3",
      "language": "python",
      "name": "python3"
    },
    "language_info": {
      "codemirror_mode": {
        "name": "ipython",
        "version": 3
      },
      "file_extension": ".py",
      "mimetype": "text/x-python",
      "name": "python",
      "nbconvert_exporter": "python",
      "pygments_lexer": "ipython3",
      "version": "3.9.9"
    },
    "colab": {
      "provenance": []
    }
  },
  "nbformat": 4,
  "nbformat_minor": 0
}